{
 "cells": [
  {
   "cell_type": "markdown",
   "id": "09bb5de9-7a98-4121-9446-76d9bf0d2761",
   "metadata": {},
   "source": [
    "### 提取数据"
   ]
  },
  {
   "cell_type": "code",
   "execution_count": 77,
   "id": "648b53d8-6ff5-4cc3-9c3a-5c10f2c5ee4c",
   "metadata": {},
   "outputs": [],
   "source": [
    "from neo4j import GraphDatabase\n",
    "\n",
    "class Neo4jEntityFetcher:\n",
    "    def __init__(self, uri, user, password):\n",
    "        self.driver = GraphDatabase.driver(uri, auth=(user, password))\n",
    "\n",
    "    # 获取所有实体（节点）\n",
    "    def get_all_entities(self):\n",
    "        with self.driver.session() as session:\n",
    "            query = \"MATCH (n) RETURN n\"\n",
    "            result = session.run(query)\n",
    "            # 将实体的属性存入列表\n",
    "            entities = [{\"id\": record[\"n\"].element_id, \"labels\": list(record[\"n\"].labels), \"properties\": dict(record[\"n\"])} for record in result]\n",
    "            return entities\n",
    "\n",
    "    # 获取指定标签的实体\n",
    "    def get_entities_by_label(self, label):\n",
    "        with self.driver.session() as session:\n",
    "            query = f\"MATCH (n:{label}) RETURN n\"\n",
    "            result = session.run(query)\n",
    "            # 将实体的属性存入列表\n",
    "            entities = [{\"id\": record[\"n\"].element_id, \"labels\": list(record[\"n\"].labels), \"properties\": dict(record[\"n\"])} for record in result]\n",
    "            return entities\n",
    "\n",
    "    # 获取指定属性的实体\n",
    "    def get_entities_by_property(self, property_name, property_value):\n",
    "        with self.driver.session() as session:\n",
    "            query = f\"MATCH (n {{{property_name}: '{property_value}'}}) RETURN n\"\n",
    "            result = session.run(query)\n",
    "            # 将实体的属性存入列表\n",
    "            entities = [{\"id\": record[\"n\"].element_id, \"labels\": list(record[\"n\"].labels), \"properties\": dict(record[\"n\"])} for record in result]\n",
    "            return entities\n",
    "\n",
    "    # 关闭驱动\n",
    "    def close(self):\n",
    "        self.driver.close()\n",
    "\n",
    "\n",
    "uri = \"bolt://localhost:7687\"  # Neo4j 数据库地址\n",
    "user = \"neo4j\"  # Neo4j 用户名\n",
    "password = \"password\"  # Neo4j 密码\n",
    "fetcher = Neo4jEntityFetcher(uri, user, password)\n",
    "\n",
    "all_entities = fetcher.get_all_entities()\n",
    "\n",
    "knowledge_entities = fetcher.get_entities_by_label(\"knowledge\")\n",
    "\n",
    "diabetes_entities = fetcher.get_entities_by_property(\"name\", \"糖尿病\")\n",
    "\n",
    "fetcher.close()"
   ]
  },
  {
   "cell_type": "code",
   "execution_count": 78,
   "id": "58e846b2-71b0-4fdc-ade4-56f1174470ea",
   "metadata": {},
   "outputs": [
    {
     "data": {
      "text/plain": [
       "{'id': '4:0cfb6f88-002e-4f58-87e3-6809e3bfecb2:0',\n",
       " 'labels': ['knowledge'],\n",
       " 'properties': {'name': '支气管扩张症的病因包括囊性纤维化、巨大气管支气管症、肺叶内肺隔离症、免疫缺陷性疾病、感染后、机械性气道阻塞、原发性或继发性纤毛运动障碍以及变态反应性支气管肺曲霉病等。'}}"
      ]
     },
     "execution_count": 78,
     "metadata": {},
     "output_type": "execute_result"
    }
   ],
   "source": [
    "knowledge_entities[0]"
   ]
  },
  {
   "cell_type": "markdown",
   "id": "4b1e1d4d-7d73-429a-810a-c3c6c009ca79",
   "metadata": {},
   "source": [
    "### 嵌入模型"
   ]
  },
  {
   "cell_type": "code",
   "execution_count": 24,
   "id": "15d58479-56a3-4806-aa00-903dd07ceab9",
   "metadata": {},
   "outputs": [],
   "source": [
    "import warnings\n",
    "warnings.filterwarnings(\"ignore\")\n",
    "\n",
    "import os\n",
    "import pandas as pd\n",
    "from tqdm import tqdm\n",
    "from gensim.models import KeyedVectors\n",
    "from transformers import AutoModel, AutoTokenizer\n",
    "import torch\n",
    "import torch.nn as nn"
   ]
  },
  {
   "cell_type": "code",
   "execution_count": 26,
   "id": "5f36d871-371f-4cc8-9f2a-9076dbc9b758",
   "metadata": {},
   "outputs": [],
   "source": [
    "def LoadModel(model_path='../model/modified_bge-large-zh-v1.5'):\n",
    "    device = torch.device(\"cuda\" if torch.cuda.is_available() else \"cpu\")  \n",
    "\n",
    "    # 加载已保存的模型\n",
    "    if os.path.exists(model_path) and os.path.getsize(model_path) > 1e9:\n",
    "        model = AutoModel.from_pretrained(model_path).to(device)  \n",
    "        tokenizer = AutoTokenizer.from_pretrained(model_path)\n",
    "    else:\n",
    "        # 加载词向量并处理不存在的词汇\n",
    "        word_vectors = KeyedVectors.load_word2vec_format('../data/vector.txt', binary=False)\n",
    "        existing_vectors = {word: word_vectors[word] for word in word_vectors.index_to_key}\n",
    "\n",
    "        model_name = \"../model/bge-large-zh-v1.5\"\n",
    "        tokenizer = AutoTokenizer.from_pretrained(model_name)\n",
    "        model = AutoModel.from_pretrained(model_name).to(device)  \n",
    "        vocab_size = len(tokenizer)\n",
    "        embedding_dim = 1024\n",
    "        new_embedding = nn.Embedding(vocab_size, embedding_dim).to(device)  \n",
    "\n",
    "        for word, index in tokenizer.get_vocab().items():\n",
    "            if word in existing_vectors:\n",
    "                new_embedding.weight.data[index] = torch.cat(\n",
    "                    (torch.tensor(existing_vectors[word]).to(device), torch.zeros(512, device=device))\n",
    "                )\n",
    "\n",
    "        model.embeddings.word_embeddings = new_embedding\n",
    "\n",
    "        output_dir = \"../model/modified_bge-large-zh-v1.5\"\n",
    "        model.save_pretrained(output_dir)\n",
    "        tokenizer.save_pretrained(output_dir)\n",
    "\n",
    "    return model, tokenizer"
   ]
  },
  {
   "cell_type": "code",
   "execution_count": null,
   "id": "c5d18681-9e3b-4a74-a14e-85934463b1d6",
   "metadata": {
    "scrolled": true
   },
   "outputs": [],
   "source": [
    "def encode_text(model, tokenizer, text, max_length=512):\n",
    "    device = model.device\n",
    "    inputs = tokenizer(text, return_tensors='pt', padding=True, truncation=True, max_length=max_length).to(device)\n",
    "\n",
    "    model.eval()\n",
    "\n",
    "    with torch.no_grad():\n",
    "        outputs = model(**inputs)\n",
    "        embeddings = outputs.last_hidden_state.mean(dim=1).cpu()\n",
    "    return embeddings\n",
    "\n",
    "# 使用示例\n",
    "text = [\"输入文本\",'22213']\n",
    "model, tokenizer = LoadModel()\n",
    "embeddings = encode_text(model, tokenizer, text)\n",
    "embeddings"
   ]
  },
  {
   "cell_type": "markdown",
   "id": "ed588ad1-1ad6-4d53-957d-07ae22dc72f9",
   "metadata": {},
   "source": [
    "### 生成索引"
   ]
  },
  {
   "cell_type": "code",
   "execution_count": 90,
   "id": "5e67600f-798d-4e25-af59-a4f26f72c990",
   "metadata": {},
   "outputs": [],
   "source": [
    "from langchain.vectorstores import FAISS\n",
    "from langchain.docstore.document import Document\n",
    "from GetData import Neo4jEntityFetcher\n",
    "from Embedding import *\n",
    "from tqdm import tqdm\n",
    "import redis\n",
    "from langchain.vectorstores import FAISS\n",
    "from langchain.vectorstores.redis import Redis"
   ]
  },
  {
   "cell_type": "code",
   "execution_count": 32,
   "id": "9c5b646a-4860-4f14-8038-557fa6309a4e",
   "metadata": {},
   "outputs": [],
   "source": [
    "uri = \"bolt://localhost:7687\"  # Neo4j 数据库地址\n",
    "user = \"neo4j\"  # Neo4j 用户名\n",
    "password = \"password\"  # Neo4j 密码\n",
    "fetcher = Neo4jEntityFetcher(uri, user, password)\n",
    "knowledge_entities = fetcher.get_entities_by_label(\"knowledge\")\n",
    "\n",
    "texts = [i['properties']['name'] for i in knowledge_entities] \n",
    "ids = [i['id'] for i in knowledge_entities]"
   ]
  },
  {
   "cell_type": "code",
   "execution_count": 40,
   "id": "ac3799b7-5953-4254-8c4f-1b31cdd7748d",
   "metadata": {},
   "outputs": [
    {
     "name": "stderr",
     "output_type": "stream",
     "text": [
      "100%|█████████████████████████████████████████| 156/156 [45:30<00:00, 17.51s/it]\n"
     ]
    }
   ],
   "source": [
    "model, tokenizer = LoadModel()\n",
    "def batch_encode_texts(model, tokenizer, texts, batch_size=32):\n",
    "    embeddings = []\n",
    "    for i in tqdm(range(0, len(texts), batch_size)):\n",
    "        batch_texts = texts[i:i + batch_size]\n",
    "        batch_embeddings = encode_text(model, tokenizer, batch_texts)\n",
    "        embeddings.extend(batch_embeddings)\n",
    "    return embeddings\n",
    "\n",
    "embeddings = batch_encode_texts(model, tokenizer, texts, batch_size=64)"
   ]
  },
  {
   "cell_type": "code",
   "execution_count": 105,
   "id": "f13d3e72-c0ee-4e9f-8d38-712b205f2299",
   "metadata": {},
   "outputs": [],
   "source": [
    "redis_client = redis.StrictRedis(host='localhost', port=6380, db=0)"
   ]
  },
  {
   "cell_type": "code",
   "execution_count": 106,
   "id": "3d63d6b4-9067-464c-b871-5759ed52c5a4",
   "metadata": {},
   "outputs": [],
   "source": [
    "# 将数据存储到 Redis\n",
    "for id, embedding, text in zip(ids, embeddings, texts):\n",
    "    redis_client.hset(id, mapping={\n",
    "        'embedding': str(embedding),\n",
    "        'text': text\n",
    "    })"
   ]
  },
  {
   "cell_type": "code",
   "execution_count": null,
   "id": "0f0cc66b-0acd-4641-89ed-36c5ae91aaa3",
   "metadata": {},
   "outputs": [],
   "source": []
  }
 ],
 "metadata": {
  "kernelspec": {
   "display_name": "Medical",
   "language": "python",
   "name": "medical"
  },
  "language_info": {
   "codemirror_mode": {
    "name": "ipython",
    "version": 3
   },
   "file_extension": ".py",
   "mimetype": "text/x-python",
   "name": "python",
   "nbconvert_exporter": "python",
   "pygments_lexer": "ipython3",
   "version": "3.11.10"
  }
 },
 "nbformat": 4,
 "nbformat_minor": 5
}
